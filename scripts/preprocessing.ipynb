{
 "cells": [
  {
   "cell_type": "markdown",
   "id": "fc657335",
   "metadata": {},
   "source": [
    "# Project: Extreme Absenteeism Predictive Analysis\n",
    "\n",
    "## Table of Content\n",
    "* [Load and Clean Data](#load-and-clean-data) \n",
    "* [Explotory Data Analysis](#Exploratory Data Analysis)\n",
    "* [Feature Engineering](#Feature Engineering)\n",
    "* [Model Building](../data/absenteeism_module.py)"
   ]
  },
  {
   "cell_type": "markdown",
   "id": "0f17d51f",
   "metadata": {},
   "source": [
    "<a id='Load and Clean Data'></a>\n",
    "## Load and Clean Data\n"
   ]
  },
  {
   "cell_type": "code",
   "execution_count": 2,
   "id": "7eed1464",
   "metadata": {},
   "outputs": [],
   "source": [
    "# importing packages for this project\n",
    "import pandas as pd\n",
    "import numpy as np\n",
    "import datetime as dt"
   ]
  },
  {
   "cell_type": "code",
   "execution_count": 3,
   "id": "03e462cb",
   "metadata": {},
   "outputs": [
    {
     "data": {
      "text/html": [
       "<div>\n",
       "<style scoped>\n",
       "    .dataframe tbody tr th:only-of-type {\n",
       "        vertical-align: middle;\n",
       "    }\n",
       "\n",
       "    .dataframe tbody tr th {\n",
       "        vertical-align: top;\n",
       "    }\n",
       "\n",
       "    .dataframe thead th {\n",
       "        text-align: right;\n",
       "    }\n",
       "</style>\n",
       "<table border=\"1\" class=\"dataframe\">\n",
       "  <thead>\n",
       "    <tr style=\"text-align: right;\">\n",
       "      <th></th>\n",
       "      <th>ID</th>\n",
       "      <th>Reason for Absence</th>\n",
       "      <th>Date</th>\n",
       "      <th>Transportation Expense</th>\n",
       "      <th>Distance to Work</th>\n",
       "      <th>Age</th>\n",
       "      <th>Daily Work Load Average</th>\n",
       "      <th>Body Mass Index</th>\n",
       "      <th>Education</th>\n",
       "      <th>Children</th>\n",
       "      <th>Pets</th>\n",
       "      <th>Absenteeism Time in Hours</th>\n",
       "    </tr>\n",
       "  </thead>\n",
       "  <tbody>\n",
       "    <tr>\n",
       "      <th>0</th>\n",
       "      <td>11</td>\n",
       "      <td>26</td>\n",
       "      <td>07/07/2015</td>\n",
       "      <td>289</td>\n",
       "      <td>36</td>\n",
       "      <td>33</td>\n",
       "      <td>239.554</td>\n",
       "      <td>30</td>\n",
       "      <td>1</td>\n",
       "      <td>2</td>\n",
       "      <td>1</td>\n",
       "      <td>4</td>\n",
       "    </tr>\n",
       "    <tr>\n",
       "      <th>1</th>\n",
       "      <td>36</td>\n",
       "      <td>0</td>\n",
       "      <td>14/07/2015</td>\n",
       "      <td>118</td>\n",
       "      <td>13</td>\n",
       "      <td>50</td>\n",
       "      <td>239.554</td>\n",
       "      <td>31</td>\n",
       "      <td>1</td>\n",
       "      <td>1</td>\n",
       "      <td>0</td>\n",
       "      <td>0</td>\n",
       "    </tr>\n",
       "    <tr>\n",
       "      <th>2</th>\n",
       "      <td>3</td>\n",
       "      <td>23</td>\n",
       "      <td>15/07/2015</td>\n",
       "      <td>179</td>\n",
       "      <td>51</td>\n",
       "      <td>38</td>\n",
       "      <td>239.554</td>\n",
       "      <td>31</td>\n",
       "      <td>1</td>\n",
       "      <td>0</td>\n",
       "      <td>0</td>\n",
       "      <td>2</td>\n",
       "    </tr>\n",
       "    <tr>\n",
       "      <th>3</th>\n",
       "      <td>7</td>\n",
       "      <td>7</td>\n",
       "      <td>16/07/2015</td>\n",
       "      <td>279</td>\n",
       "      <td>5</td>\n",
       "      <td>39</td>\n",
       "      <td>239.554</td>\n",
       "      <td>24</td>\n",
       "      <td>1</td>\n",
       "      <td>2</td>\n",
       "      <td>0</td>\n",
       "      <td>4</td>\n",
       "    </tr>\n",
       "    <tr>\n",
       "      <th>4</th>\n",
       "      <td>11</td>\n",
       "      <td>23</td>\n",
       "      <td>23/07/2015</td>\n",
       "      <td>289</td>\n",
       "      <td>36</td>\n",
       "      <td>33</td>\n",
       "      <td>239.554</td>\n",
       "      <td>30</td>\n",
       "      <td>1</td>\n",
       "      <td>2</td>\n",
       "      <td>1</td>\n",
       "      <td>2</td>\n",
       "    </tr>\n",
       "    <tr>\n",
       "      <th>...</th>\n",
       "      <td>...</td>\n",
       "      <td>...</td>\n",
       "      <td>...</td>\n",
       "      <td>...</td>\n",
       "      <td>...</td>\n",
       "      <td>...</td>\n",
       "      <td>...</td>\n",
       "      <td>...</td>\n",
       "      <td>...</td>\n",
       "      <td>...</td>\n",
       "      <td>...</td>\n",
       "      <td>...</td>\n",
       "    </tr>\n",
       "    <tr>\n",
       "      <th>695</th>\n",
       "      <td>17</td>\n",
       "      <td>10</td>\n",
       "      <td>23/05/2018</td>\n",
       "      <td>179</td>\n",
       "      <td>22</td>\n",
       "      <td>40</td>\n",
       "      <td>237.656</td>\n",
       "      <td>22</td>\n",
       "      <td>2</td>\n",
       "      <td>2</td>\n",
       "      <td>0</td>\n",
       "      <td>8</td>\n",
       "    </tr>\n",
       "    <tr>\n",
       "      <th>696</th>\n",
       "      <td>28</td>\n",
       "      <td>6</td>\n",
       "      <td>23/05/2018</td>\n",
       "      <td>225</td>\n",
       "      <td>26</td>\n",
       "      <td>28</td>\n",
       "      <td>237.656</td>\n",
       "      <td>24</td>\n",
       "      <td>1</td>\n",
       "      <td>1</td>\n",
       "      <td>2</td>\n",
       "      <td>3</td>\n",
       "    </tr>\n",
       "    <tr>\n",
       "      <th>697</th>\n",
       "      <td>18</td>\n",
       "      <td>10</td>\n",
       "      <td>24/05/2018</td>\n",
       "      <td>330</td>\n",
       "      <td>16</td>\n",
       "      <td>28</td>\n",
       "      <td>237.656</td>\n",
       "      <td>25</td>\n",
       "      <td>2</td>\n",
       "      <td>0</td>\n",
       "      <td>0</td>\n",
       "      <td>8</td>\n",
       "    </tr>\n",
       "    <tr>\n",
       "      <th>698</th>\n",
       "      <td>25</td>\n",
       "      <td>23</td>\n",
       "      <td>24/05/2018</td>\n",
       "      <td>235</td>\n",
       "      <td>16</td>\n",
       "      <td>32</td>\n",
       "      <td>237.656</td>\n",
       "      <td>25</td>\n",
       "      <td>3</td>\n",
       "      <td>0</td>\n",
       "      <td>0</td>\n",
       "      <td>2</td>\n",
       "    </tr>\n",
       "    <tr>\n",
       "      <th>699</th>\n",
       "      <td>15</td>\n",
       "      <td>28</td>\n",
       "      <td>31/05/2018</td>\n",
       "      <td>291</td>\n",
       "      <td>31</td>\n",
       "      <td>40</td>\n",
       "      <td>237.656</td>\n",
       "      <td>25</td>\n",
       "      <td>1</td>\n",
       "      <td>1</td>\n",
       "      <td>1</td>\n",
       "      <td>2</td>\n",
       "    </tr>\n",
       "  </tbody>\n",
       "</table>\n",
       "<p>700 rows × 12 columns</p>\n",
       "</div>"
      ],
      "text/plain": [
       "     ID  Reason for Absence        Date  Transportation Expense  \\\n",
       "0    11                  26  07/07/2015                     289   \n",
       "1    36                   0  14/07/2015                     118   \n",
       "2     3                  23  15/07/2015                     179   \n",
       "3     7                   7  16/07/2015                     279   \n",
       "4    11                  23  23/07/2015                     289   \n",
       "..   ..                 ...         ...                     ...   \n",
       "695  17                  10  23/05/2018                     179   \n",
       "696  28                   6  23/05/2018                     225   \n",
       "697  18                  10  24/05/2018                     330   \n",
       "698  25                  23  24/05/2018                     235   \n",
       "699  15                  28  31/05/2018                     291   \n",
       "\n",
       "     Distance to Work  Age  Daily Work Load Average  Body Mass Index  \\\n",
       "0                  36   33                  239.554               30   \n",
       "1                  13   50                  239.554               31   \n",
       "2                  51   38                  239.554               31   \n",
       "3                   5   39                  239.554               24   \n",
       "4                  36   33                  239.554               30   \n",
       "..                ...  ...                      ...              ...   \n",
       "695                22   40                  237.656               22   \n",
       "696                26   28                  237.656               24   \n",
       "697                16   28                  237.656               25   \n",
       "698                16   32                  237.656               25   \n",
       "699                31   40                  237.656               25   \n",
       "\n",
       "     Education  Children  Pets  Absenteeism Time in Hours  \n",
       "0            1         2     1                          4  \n",
       "1            1         1     0                          0  \n",
       "2            1         0     0                          2  \n",
       "3            1         2     0                          4  \n",
       "4            1         2     1                          2  \n",
       "..         ...       ...   ...                        ...  \n",
       "695          2         2     0                          8  \n",
       "696          1         1     2                          3  \n",
       "697          2         0     0                          8  \n",
       "698          3         0     0                          2  \n",
       "699          1         1     1                          2  \n",
       "\n",
       "[700 rows x 12 columns]"
      ]
     },
     "execution_count": 3,
     "metadata": {},
     "output_type": "execute_result"
    }
   ],
   "source": [
    "# loading the file\n",
    "raw_csv_data = pd.read_csv('../data/Absenteeism_data.csv')\n",
    "raw_csv_data"
   ]
  },
  {
   "cell_type": "code",
   "execution_count": 4,
   "id": "92da866d",
   "metadata": {},
   "outputs": [
    {
     "data": {
      "text/plain": [
       "' To display all data rowsand columns\\npd.options.display.max_columns = None\\npd.options.display.max_rows = None '"
      ]
     },
     "execution_count": 4,
     "metadata": {},
     "output_type": "execute_result"
    }
   ],
   "source": [
    "\"\"\" To display all data rowsand columns\n",
    "pd.options.display.max_columns = None\n",
    "pd.options.display.max_rows = None \"\"\""
   ]
  },
  {
   "cell_type": "code",
   "execution_count": 5,
   "id": "78ec0e72",
   "metadata": {},
   "outputs": [
    {
     "data": {
      "text/plain": [
       "<bound method DataFrame.corr of                ID  Reason for Absence  Transportation Expense  \\\n",
       "count  700.000000          700.000000              700.000000   \n",
       "mean    17.951429           19.411429              222.347143   \n",
       "std     11.028144            8.356292               66.312960   \n",
       "min      1.000000            0.000000              118.000000   \n",
       "25%      9.000000           13.000000              179.000000   \n",
       "50%     18.000000           23.000000              225.000000   \n",
       "75%     28.000000           27.000000              260.000000   \n",
       "max     36.000000           28.000000              388.000000   \n",
       "\n",
       "       Distance to Work         Age  Daily Work Load Average  Body Mass Index  \\\n",
       "count        700.000000  700.000000               700.000000       700.000000   \n",
       "mean          29.892857   36.417143               271.801774        26.737143   \n",
       "std           14.804446    6.379083                40.021804         4.254701   \n",
       "min            5.000000   27.000000               205.917000        19.000000   \n",
       "25%           16.000000   31.000000               241.476000        24.000000   \n",
       "50%           26.000000   37.000000               264.249000        25.000000   \n",
       "75%           50.000000   40.000000               294.217000        31.000000   \n",
       "max           52.000000   58.000000               378.884000        38.000000   \n",
       "\n",
       "        Education    Children        Pets  Absenteeism Time in Hours  \n",
       "count  700.000000  700.000000  700.000000                 700.000000  \n",
       "mean     1.282857    1.021429    0.687143                   6.761429  \n",
       "std      0.668090    1.112215    1.166095                  12.670082  \n",
       "min      1.000000    0.000000    0.000000                   0.000000  \n",
       "25%      1.000000    0.000000    0.000000                   2.000000  \n",
       "50%      1.000000    1.000000    0.000000                   3.000000  \n",
       "75%      1.000000    2.000000    1.000000                   8.000000  \n",
       "max      4.000000    4.000000    8.000000                 120.000000  >"
      ]
     },
     "execution_count": 5,
     "metadata": {},
     "output_type": "execute_result"
    }
   ],
   "source": [
    "raw_csv_data.describe().corr"
   ]
  },
  {
   "cell_type": "code",
   "execution_count": null,
   "id": "68f4e2a9",
   "metadata": {},
   "outputs": [],
   "source": [
    "raw_csv_data.info()"
   ]
  },
  {
   "cell_type": "code",
   "execution_count": null,
   "id": "27ba0191",
   "metadata": {},
   "outputs": [],
   "source": [
    "raw_csv_data.isnull().sum()"
   ]
  },
  {
   "cell_type": "markdown",
   "id": "4cdab4ac",
   "metadata": {},
   "source": [
    "Let's create a copy of the dataframe before processing"
   ]
  },
  {
   "cell_type": "code",
   "execution_count": null,
   "id": "e625d36e",
   "metadata": {},
   "outputs": [],
   "source": [
    "df = raw_csv_data.copy()"
   ]
  },
  {
   "cell_type": "markdown",
   "id": "d16dfd58",
   "metadata": {},
   "source": [
    "## Removing irrelevant columns"
   ]
  },
  {
   "cell_type": "code",
   "execution_count": null,
   "id": "ace13e63",
   "metadata": {},
   "outputs": [],
   "source": [
    "df = df.drop([\"ID\"], axis = 1)"
   ]
  },
  {
   "cell_type": "code",
   "execution_count": null,
   "id": "4650d46c",
   "metadata": {},
   "outputs": [],
   "source": [
    "#checking the minimum and maximum values of Reason for absence \n",
    "print(df['Reason for Absence'].max())\n",
    "print(df['Reason for Absence'].min())"
   ]
  },
  {
   "cell_type": "code",
   "execution_count": null,
   "id": "cfdebada",
   "metadata": {},
   "outputs": [],
   "source": [
    "#checking the number of values in 'Reason for Absence' column\n",
    "len(df['Reason for Absence'].unique()) "
   ]
  },
  {
   "cell_type": "code",
   "execution_count": null,
   "id": "0e16a827",
   "metadata": {},
   "outputs": [],
   "source": [
    "sorted(df['Reason for Absence'].unique())"
   ]
  },
  {
   "cell_type": "markdown",
   "id": "c94178c7",
   "metadata": {},
   "source": [
    "These 28 reasons for absence represents an actual reason for absence. as shown in the supporting document. there we can see why 20 isn't amongst the reasons. We need to add numerical meaning to these categorical nominal values by creating dummy variables.\n",
    "A dummy variable is an explanatory binary variable that equals:\n",
    "1 if a certain categorical efect is present, and equals 0 if that same effect is absent."
   ]
  },
  {
   "cell_type": "code",
   "execution_count": null,
   "id": "b836142c",
   "metadata": {},
   "outputs": [],
   "source": [
    "# using .get_dummies to create dummy variable and to avoid multicollinearity issues we drop the first column which is 'zero reason' variable.\n",
    "reason_columns = pd.get_dummies(df['Reason for Absence'], drop_first = True)\n",
    "reason_columns"
   ]
  },
  {
   "cell_type": "code",
   "execution_count": null,
   "id": "3a91a998",
   "metadata": {},
   "outputs": [],
   "source": [
    "#checking for rows with missing values\n",
    "reason_columns['check'] = reason_columns.sum(axis=1)\n",
    "reason_columns\n",
    "# expect that each row has a check column value of 1, as an individual can't be absent for 2 reasons."
   ]
  },
  {
   "cell_type": "code",
   "execution_count": null,
   "id": "9e346af5",
   "metadata": {},
   "outputs": [],
   "source": [
    "# programmatically checking the check values \n",
    "reason_columns['check'].unique()"
   ]
  },
  {
   "cell_type": "code",
   "execution_count": null,
   "id": "a4a06f3f",
   "metadata": {},
   "outputs": [],
   "source": [
    "# dropping the check column as it's confirmed our dummies\n",
    "reason_columns = reason_columns.drop(['check'], axis = 1)"
   ]
  },
  {
   "cell_type": "code",
   "execution_count": null,
   "id": "a1158fdc",
   "metadata": {},
   "outputs": [],
   "source": [
    "reason_columns.columns.values\n",
    "reason_columns"
   ]
  },
  {
   "cell_type": "code",
   "execution_count": null,
   "id": "65a69d1c",
   "metadata": {},
   "outputs": [],
   "source": [
    "# grouping the reason for absence data\n",
    "reason_type_1 = reason_columns.iloc[:, :14].max(axis=1)\n",
    "reason_type_2 = reason_columns.iloc[:, 14:17].max(axis=1)\n",
    "reason_type_3 = reason_columns.iloc[:, 17:20].max(axis=1)\n",
    "reason_type_4 = reason_columns.iloc[:, 20:].max(axis=1)"
   ]
  },
  {
   "cell_type": "markdown",
   "id": "a4970ec0",
   "metadata": {},
   "source": [
    "### Concatenate Column Values"
   ]
  },
  {
   "cell_type": "code",
   "execution_count": null,
   "id": "d560fc73",
   "metadata": {},
   "outputs": [],
   "source": [
    "df = pd.concat([df, reason_type_1, reason_type_2, reason_type_3, reason_type_4], axis = 1)\n",
    "df"
   ]
  },
  {
   "cell_type": "code",
   "execution_count": null,
   "id": "9a570900",
   "metadata": {},
   "outputs": [],
   "source": [
    "df.columns.values"
   ]
  },
  {
   "cell_type": "code",
   "execution_count": null,
   "id": "90b332e6",
   "metadata": {},
   "outputs": [],
   "source": [
    "# renaming the last concatenated columns\n",
    "column_names = ['Reason for Absence', 'Date', 'Transportation Expense',\n",
    "       'Distance to Work', 'Age', 'Daily Work Load Average',\n",
    "       'Body Mass Index', 'Education', 'Children', 'Pets',\n",
    "       'Absenteeism Time in Hours', 'Reason_1', 'Reason_2', 'Reason_3', 'Reason_4']"
   ]
  },
  {
   "cell_type": "code",
   "execution_count": null,
   "id": "05f82951",
   "metadata": {},
   "outputs": [],
   "source": [
    "# adding the new column names to the original dataframe\n",
    "df.columns = column_names\n",
    "df.head()"
   ]
  },
  {
   "cell_type": "code",
   "execution_count": null,
   "id": "5112319f",
   "metadata": {},
   "outputs": [],
   "source": [
    "# drop original reason column\n",
    "df = df.drop(['Reason for Absence'], axis = 1)"
   ]
  },
  {
   "cell_type": "markdown",
   "id": "b80d2f8a",
   "metadata": {},
   "source": [
    "### Reorder Columns"
   ]
  },
  {
   "cell_type": "code",
   "execution_count": null,
   "id": "947c29da",
   "metadata": {},
   "outputs": [],
   "source": [
    "column_names_rendered = ['Reason_1', 'Reason_2', 'Reason_3', 'Reason_4','Date', 'Transportation Expense',\n",
    "       'Distance to Work', 'Age', 'Daily Work Load Average',\n",
    "       'Body Mass Index', 'Education', 'Children', 'Pets',\n",
    "       'Absenteeism Time in Hours']\n",
    "\n",
    "df = df[column_names_rendered]\n",
    "df.head()"
   ]
  },
  {
   "cell_type": "markdown",
   "id": "13bffde1",
   "metadata": {},
   "source": [
    "### Checkpoint"
   ]
  },
  {
   "cell_type": "code",
   "execution_count": null,
   "id": "c71da78e",
   "metadata": {},
   "outputs": [],
   "source": [
    "df_reason_mod = df.copy()"
   ]
  },
  {
   "cell_type": "markdown",
   "id": "68b7b7f5",
   "metadata": {},
   "source": [
    "### 'Date':"
   ]
  },
  {
   "cell_type": "code",
   "execution_count": null,
   "id": "76844521",
   "metadata": {},
   "outputs": [],
   "source": [
    "df_reason_mod['Date']"
   ]
  },
  {
   "cell_type": "code",
   "execution_count": null,
   "id": "1b6e2d3a",
   "metadata": {},
   "outputs": [],
   "source": [
    "type(df_reason_mod['Date'])"
   ]
  },
  {
   "cell_type": "code",
   "execution_count": null,
   "id": "77784701",
   "metadata": {},
   "outputs": [],
   "source": [
    "# using timestamp to convert the datetime\n",
    "df_reason_mod['Date'] = df_reason_mod['Date'].apply(pd.to_datetime, errors='coerce')\n",
    "df_reason_mod.dtypes"
   ]
  },
  {
   "cell_type": "code",
   "execution_count": null,
   "id": "ab2b1262",
   "metadata": {},
   "outputs": [],
   "source": [
    "df_reason_mod['Date']"
   ]
  },
  {
   "cell_type": "code",
   "execution_count": null,
   "id": "3896fc3c",
   "metadata": {},
   "outputs": [],
   "source": [
    "df_reason_mod.info()"
   ]
  },
  {
   "cell_type": "code",
   "execution_count": null,
   "metadata": {},
   "outputs": [],
   "source": [
    "# Extracting the 'Year','Month' and 'day' from Date Column.\n",
    "df_reason_mod['Month'] = df_reason_mod['Date'].dt.month_name()\n",
    "df_reason_mod['Day'] = df_reason_mod['Date'].dt.day_name()"
   ]
  },
  {
   "cell_type": "code",
   "execution_count": null,
   "id": "1b5d48e5",
   "metadata": {},
   "outputs": [],
   "source": [
    "# dropping the 'Date' Column\n",
    "df_reason_mod = df_reason_mod.drop(['Date'], axis = 1)"
   ]
  },
  {
   "cell_type": "code",
   "execution_count": null,
   "id": "6d4cf886",
   "metadata": {},
   "outputs": [],
   "source": [
    "df_reason_mod.columns.values"
   ]
  },
  {
   "cell_type": "code",
   "execution_count": null,
   "id": "3a70fcf4",
   "metadata": {},
   "outputs": [],
   "source": [
    "date_rearranged = ['Reason_1', 'Reason_2', 'Reason_3', 'Reason_4', 'Month',\n",
    "       'Day','Transportation Expense', 'Distance to Work', 'Age',\n",
    "       'Daily Work Load Average', 'Body Mass Index', 'Education',\n",
    "       'Children', 'Pets', 'Absenteeism Time in Hours']"
   ]
  },
  {
   "cell_type": "code",
   "execution_count": null,
   "id": "b0e442a7",
   "metadata": {},
   "outputs": [],
   "source": [
    "df_reason_mod = df_reason_mod[date_rearranged]\n",
    "df_reason_mod"
   ]
  },
  {
   "cell_type": "markdown",
   "id": "0b9cc8ff",
   "metadata": {},
   "source": [
    "### Checkpoint"
   ]
  },
  {
   "cell_type": "code",
   "execution_count": null,
   "id": "ddf79274",
   "metadata": {},
   "outputs": [],
   "source": [
    "df_reason_date_mod = df_reason_mod.copy()"
   ]
  },
  {
   "cell_type": "code",
   "execution_count": null,
   "id": "26a14e65",
   "metadata": {},
   "outputs": [],
   "source": [
    "df_reason_date_mod.head(9)"
   ]
  },
  {
   "cell_type": "markdown",
   "id": "b9b03b9f",
   "metadata": {},
   "source": [
    "Assuming a commonality exists between Education, Children and pets as they represents categorical data, containing integers. Education has no numeric meaning as such will be converted to a dummy variable"
   ]
  },
  {
   "cell_type": "code",
   "execution_count": null,
   "metadata": {},
   "outputs": [],
   "source": [
    "# checking the variables in Education\n",
    "df_reason_date_mod['Education'].unique()"
   ]
  },
  {
   "cell_type": "markdown",
   "id": "95db4d4b",
   "metadata": {},
   "source": [
    "1 = High School\n",
    "2 = Graduate\n",
    "3 = Postgraduate\n",
    "4 = Master or doctor"
   ]
  },
  {
   "cell_type": "code",
   "execution_count": null,
   "id": "3e8a1c5a",
   "metadata": {},
   "outputs": [],
   "source": [
    "df_reason_date_mod['Education'].value_counts()"
   ]
  },
  {
   "cell_type": "markdown",
   "id": "94a92c25",
   "metadata": {},
   "source": [
    "Shows that majority of staff has just High School certificate. There group 2-4 will be merged."
   ]
  },
  {
   "cell_type": "code",
   "execution_count": null,
   "id": "856726cd",
   "metadata": {},
   "outputs": [],
   "source": [
    "# using the 'map' method to reassign the values in the Education column\n",
    "df_reason_date_mod['Education'] = df_reason_date_mod['Education'].map({1:0, 2:1, 3:1, 4:1})"
   ]
  },
  {
   "cell_type": "code",
   "execution_count": null,
   "id": "52b98b6d",
   "metadata": {},
   "outputs": [],
   "source": [
    "df_reason_date_mod['Education'].unique()"
   ]
  },
  {
   "cell_type": "code",
   "execution_count": null,
   "id": "8326645e",
   "metadata": {},
   "outputs": [],
   "source": [
    "df_reason_date_mod['Education'].value_counts()"
   ]
  },
  {
   "cell_type": "markdown",
   "id": "5f819b85",
   "metadata": {},
   "source": [
    "### Checkpoint"
   ]
  },
  {
   "cell_type": "code",
   "execution_count": null,
   "id": "ea675b16",
   "metadata": {},
   "outputs": [],
   "source": [
    "df_preprocessed = df_reason_date_mod.copy()\n",
    "df_preprocessed.head()"
   ]
  },
  {
   "cell_type": "code",
   "execution_count": null,
   "id": "d28c96d9",
   "metadata": {},
   "outputs": [],
   "source": [
    "#df_preprocessed.to_csv('../data/preprocessed.csv', index=False)"
   ]
  },
  {
   "cell_type": "code",
   "execution_count": null,
   "id": "028f2213",
   "metadata": {},
   "outputs": [],
   "source": []
  }
 ],
 "metadata": {
  "kernelspec": {
   "display_name": "Python 3.8.5",
   "language": "python",
   "name": "python3"
  },
  "language_info": {
   "codemirror_mode": {
    "name": "ipython",
    "version": 3
   },
   "file_extension": ".py",
   "mimetype": "text/x-python",
   "name": "python",
   "nbconvert_exporter": "python",
   "pygments_lexer": "ipython3",
   "version": "3.8.5"
  },
  "vscode": {
   "interpreter": {
    "hash": "ad2bdc8ecc057115af97d19610ffacc2b4e99fae6737bb82f5d7fb13d2f2c186"
   }
  }
 },
 "nbformat": 4,
 "nbformat_minor": 5
}
