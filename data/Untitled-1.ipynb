{
 "cells": [
  {
   "cell_type": "code",
   "execution_count": null,
   "metadata": {},
   "outputs": [],
   "source": []
  },
  {
   "cell_type": "code",
   "execution_count": 1,
   "metadata": {},
   "outputs": [],
   "source": [
    "import pandas as pd\n",
    "import datetime as dt"
   ]
  },
  {
   "cell_type": "code",
   "execution_count": 2,
   "metadata": {},
   "outputs": [],
   "source": [
    "# check new data\n",
    "df = pd.read_csv('Absenteeism_new_data.csv')"
   ]
  },
  {
   "cell_type": "code",
   "execution_count": 3,
   "metadata": {},
   "outputs": [],
   "source": [
    "reason_columns = pd.get_dummies(df['Reason for Absence'], drop_first = True)\n"
   ]
  },
  {
   "cell_type": "code",
   "execution_count": 4,
   "metadata": {},
   "outputs": [],
   "source": [
    "reason_type_1 = reason_columns.loc[:, '1':'14'].max(axis=1)\n",
    "reason_type_2 = reason_columns.loc[:, '15':'17'].max(axis=1)\n",
    "reason_type_3 = reason_columns.loc[:, '18':'21'].max(axis=1)\n",
    "reason_type_4 = reason_columns.loc[:, '22':].max(axis=1)"
   ]
  },
  {
   "cell_type": "code",
   "execution_count": 5,
   "metadata": {},
   "outputs": [],
   "source": [
    "# to avoid multicollinearity, drop the 'reason for absence' column from df\n",
    "df = df.drop(['Reason for Absence'], axis = 1)\n",
    "\n",
    "# concatenate df and the 4 types of reason for absence\n",
    "df = pd.concat([df, reason_type_1, reason_type_2, reason_type_3, reason_type_4], axis = 1)"
   ]
  },
  {
   "cell_type": "code",
   "execution_count": 6,
   "metadata": {},
   "outputs": [],
   "source": [
    "# assigning names to the 4 columns\n",
    "column_names = ['Date', 'Transportation Expense',\n",
    "                'Distance to Work', 'Age', 'Daily Work Load Average',\n",
    "                'Body Mass Index', 'Education', 'Children', 'Pets', \n",
    "                'Absenteeism Time in Hours', 'Reason_1', 'Reason_2', 'Reason_3', 'Reason_4']\n",
    "df.columns = column_names"
   ]
  },
  {
   "cell_type": "code",
   "execution_count": 7,
   "metadata": {},
   "outputs": [],
   "source": [
    "# reordering the columns\n",
    "column_names_reodered = ['Reason_1', 'Reason_2', 'Reason_3', 'Reason_4','Date', 'Transportation Expense',\n",
    "                        'Distance to Work', 'Age', 'Daily Work Load Average', 'Body Mass Index',\n",
    "                        'Education', 'Children', 'Pets', 'Absenteeism Time in Hours']\n",
    "df.columns = column_names_reodered\n"
   ]
  },
  {
   "cell_type": "code",
   "execution_count": 8,
   "metadata": {},
   "outputs": [],
   "source": [
    "df['Date'] = df['Date'].apply(pd.to_datetime, errors='coerce')"
   ]
  },
  {
   "cell_type": "code",
   "execution_count": 9,
   "metadata": {},
   "outputs": [],
   "source": [
    "# Extracting the 'Year','Month' and 'day' from Date Column.\n",
    "df['Month'] = df['Date'].dt.month_name()\n",
    "df['Day'] = df['Date'].dt.day_name()\n",
    "\n",
    "# converting Month and Day columns to intergers, this will help in StandardScaler\n",
    "df['Month'] = df['Month'].replace(['January', 'February', 'March', 'April', 'May',\n",
    "                                'June', 'July', 'August', 'September', 'October', 'November', 'December'], \n",
    "                                ['1', '2', '3', '4', '5', '6', '7', '8', '9', '10', '11', '12'])\n",
    "df['Day'] = df['Day'].replace(['Sunday', 'Monday', 'Tuesday', 'Wednesday', 'Thursday', 'Friday', 'Saturday'], \n",
    "                                ['1', '2', '3', '4', '5', '6', '7'])\n",
    "\n",
    "# dropping the 'Date' Column\n",
    "df = df.drop(['Date'], axis = 1)"
   ]
  },
  {
   "cell_type": "code",
   "execution_count": 10,
   "metadata": {},
   "outputs": [],
   "source": [
    "# rearrange the column\n",
    "date_rearranged = ['Reason_1', 'Reason_2', 'Reason_3', 'Reason_4', 'Month', 'Day','Transportation Expense', 'Distance to Work', 'Age',\n",
    "                  'Daily Work Load Average', 'Body Mass Index', 'Education', 'Children', 'Pets', 'Absenteeism Time in Hours']\n",
    "df.columns = date_rearranged"
   ]
  },
  {
   "cell_type": "code",
   "execution_count": 11,
   "metadata": {},
   "outputs": [],
   "source": [
    "# using the 'map' method to reassign the values in the Education column\n",
    "df['Education'] = df['Education'].map({1:0, 2:1, 3:1, 4:1})\n",
    "\n",
    "# replace the NaN values\n",
    "df = df.fillna(value=0) \n",
    "\n",
    "# drop the variables we decide we don't need\n",
    "df = df.drop(['Day', 'Daily Work Load Average', 'Distance to Work'], axis = 1)"
   ]
  }
 ],
 "metadata": {
  "kernelspec": {
   "display_name": "Python 3.8.5",
   "language": "python",
   "name": "python3"
  },
  "language_info": {
   "codemirror_mode": {
    "name": "ipython",
    "version": 3
   },
   "file_extension": ".py",
   "mimetype": "text/x-python",
   "name": "python",
   "nbconvert_exporter": "python",
   "pygments_lexer": "ipython3",
   "version": "3.8.5"
  },
  "orig_nbformat": 4,
  "vscode": {
   "interpreter": {
    "hash": "ad2bdc8ecc057115af97d19610ffacc2b4e99fae6737bb82f5d7fb13d2f2c186"
   }
  }
 },
 "nbformat": 4,
 "nbformat_minor": 2
}
